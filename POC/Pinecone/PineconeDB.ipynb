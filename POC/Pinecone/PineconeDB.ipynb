{
 "cells": [
  {
   "cell_type": "code",
   "execution_count": 19,
   "id": "0e1ebcd7",
   "metadata": {},
   "outputs": [
    {
     "name": "stdout",
     "output_type": "stream",
     "text": [
      "<pinecone.db_data.index.Index object at 0x00000150886F0850>\n"
     ]
    }
   ],
   "source": [
    "import os\n",
    "from dotenv import load_dotenv\n",
    "from pypdf import PdfReader\n",
    "from sentence_transformers import SentenceTransformer, util\n",
    "from pinecone import Pinecone, ServerlessSpec\n",
    "\n",
    "load_dotenv()\n",
    "\n",
    "# Load environment variables\n",
    "PINECONE_API_KEY = os.getenv(\"PINECONE_API_KEY\")\n",
    "PINECONE_INDEX_NAME = os.getenv(\"PINECONE_INDEX_NAME\")\n",
    "\n",
    "# Initialize Pinecone client\n",
    "pc = Pinecone(api_key=PINECONE_API_KEY)\n",
    "env_spec = ServerlessSpec(cloud=\"aws\", region=\"us-east-1\")\n",
    "\n",
    "# Create index if not exists with embedding dimension matching model (384 for all-MiniLM-L6-v2)\n",
    "if not pc.has_index(PINECONE_INDEX_NAME):\n",
    "    pc.create_index(\n",
    "        name=PINECONE_INDEX_NAME,\n",
    "        dimension=384,\n",
    "        metric=\"cosine\",\n",
    "        spec=env_spec,\n",
    "    )\n",
    "index = pc.Index(PINECONE_INDEX_NAME)\n",
    "print(index)\n"
   ]
  },
  {
   "cell_type": "code",
   "execution_count": null,
   "id": "cfb77cb8",
   "metadata": {},
   "outputs": [
    {
     "name": "stdout",
     "output_type": "stream",
     "text": [
      "The chunks are:  [Document(metadata={}, page_content='In a quaint, cobblestone village nestled beside the Whispering Woods, lived a young cartographer named Elara. Her days were spent meticulously illustrating maps, each line and curve a testament to her dedication. But Elara\\'s maps weren\\'t merely geographical representations; they were imbued with a subtle magic, a faint shimmer that hinted at the hidden stories within the land. One blustery autumn evening, a lone traveler, cloaked and weary, stumbled into Elara’s shop. He introduced himself as Kael, a historian on a lifelong quest for the lost \"Chronicle of Aethel.\" This ancient tome, rumored to hold the forgotten history of the world, was believed to be hidden within the treacherous peaks of the Dragon\\'s Tooth mountains. Kael, having exhausted all conventional methods, had heard whispers of Elara\\'s unique abilities and sought her help. Intrigued by the legend and the adventurer\\'s earnest plea, Elara agreed. She began poring over her most ancient and unlabelled maps, her fingers tracing faint, almost invisible pathways. As she focused, the maps seemed to come alive under her touch, faint glows highlighting certain areas. She noticed a recurring, almost imperceptible pattern, a series of converging ley lines that pointed towards a secluded, often-avoided canyon deep within the Dragon\\'s Tooth. Kael, observing her intense concentration, explained that the Chronicle was said to be protected by a series of riddles and trials, accessible only to those with a pure heart and an understanding of the land’s ancient wisdom. He showed Elara a fragment of a riddle he had found, etched onto a weathered stone tablet: \"Where the sky weeps tears of crystal, and the earth sighs a forgotten song, there the path unseen will guide you strong.\" Elara studied the riddle, her gaze shifting back to the maps. \"Crystal tears,\" she mused, \"could refer to a waterfall, especially one that freezes in winter. And a forgotten song... perhaps a place where the wind howls a unique tune through ancient rock formations.\" With a growing sense of excitement, she began to sketch a new map, integrating Kael\\'s riddle with her own cartographic insights. She marked a hidden cave behind a towering, frozen waterfall, and a winding gorge where the wind carved ethereal melodies into the stone. The journey was arduous. The Dragon\\'s Tooth lived up to its formidable reputation, with jagged peaks and sudden, chilling gusts of wind. Yet, Elara’s map, guided by both her artistry and intuition, proved uncannily accurate. They navigated treacherous passes, climbed dizzying ascents, and finally, after days of travel, reached the frozen waterfall. The \"crystal tears\" glittered, and behind its shimmering veil, a dark opening beckoned.'), Document(metadata={}, page_content='Inside the cave, the air was still and ancient. Another riddle awaited them, carved into the cave wall: \"Through the whispers of forgotten echoes, and the silence of enduring stone, the guardian\\'s eye shall make itself known.\" Elara’s eyes scanned the rough-hewn walls. She noticed a subtle shift in the light, a faint shimmer near a seemingly ordinary rock face.'), Document(metadata={}, page_content='As she approached, the rock seemed to ripple, revealing a hidden passage. This passage led them deeper, into a vast cavern where phosphorescent moss illuminated intricate carvings depicting mythical beasts and ancient constellations. At the heart of the cavern, atop a pedestal of polished obsidian, lay a single, unassuming book. Its cover was unadorned, save for a single, intricately carved symbol. This was the Chronicle of Aethel. As Kael reached for it, the symbol on the cover flared with a soft, golden light. A disembodied voice echoed through the cavern, speaking a final riddle: \"Only a hand that has mapped the world\\'s soul, and a heart that seeks its truth, can claim the untold.\" Kael, humbled by the trials and recognizing Elara\\'s instrumental role, gestured for her to take the book. As her fingers brushed the ancient cover, the golden light intensified, and the Chronicle of Aethel settled gently into her hands. It wasn\\'t just a book of history; it was a living record, its pages shimmering with the echoes of every place Elara had ever mapped, every story she had unconsciously captured. The journey had not only led them to a lost treasure but had also unveiled the true magic within Elara\\'s own craft. She was not just a cartographer; she was a keeper of the world\\'s soul, and her maps were the conduits to its deepest truths.')]\n"
     ]
    }
   ],
   "source": [
    "# Main workflow\n",
    "# Extract text from PDF\n",
    "# Extract text from PDF\n",
    "import os\n",
    "from langchain_experimental.text_splitter import SemanticChunker\n",
    "from langchain_google_genai import GoogleGenerativeAIEmbeddings\n",
    "\n",
    "\n",
    "GOOGLE_API_KEY = os.environ[\"GOOGLE_API_KEY\"] \n",
    "\n",
    "embeddings = GoogleGenerativeAIEmbeddings(model=\"models/embedding-001\")\n",
    "\n",
    "def semantic_chunking(text):\n",
    "    text_splitter = SemanticChunker(embeddings, breakpoint_threshold_type=\"percentile\")\n",
    "\n",
    "    chunks = text_splitter.create_documents([text])\n",
    "\n",
    "    print(\"The chunks are: \",chunks)\n",
    "    return chunks\n",
    "\n",
    "def extract_text_from_pdf(pdf_path):\n",
    "    reader = PdfReader(pdf_path)\n",
    "    full_text = \"\"\n",
    "    for page in reader.pages:\n",
    "        page_text = page.extract_text()\n",
    "        if page_text:\n",
    "            full_text += page_text + \" \"\n",
    "    \n",
    "    # Clean up the text: remove excessive whitespace and normalize\n",
    "    import re\n",
    "    # Replace multiple newlines with single space\n",
    "    full_text = re.sub(r'\\n+', ' ', full_text)\n",
    "    # Replace multiple spaces with single space\n",
    "    full_text = re.sub(r'\\s+', ' ', full_text)\n",
    "    # Strip leading/trailing whitespace\n",
    "    full_text = full_text.strip()\n",
    "    \n",
    "    return full_text\n",
    "\n",
    "pdf_path = \"documents/Story1.pdf\"  # Replace with your PDF path\n",
    "text = extract_text_from_pdf(pdf_path)\n",
    "\n",
    "# Initialize embedding model\n",
    "model = SentenceTransformer(\"all-MiniLM-L6-v2\")\n",
    "\n",
    "# Fix: Extract text content from Document objects\n",
    "chunks = semantic_chunking(text)\n",
    "chunk_texts = [chunk.page_content for chunk in chunks]  # Extract text from Document objects\n",
    "\n",
    "# Generate embeddings for all chunks\n",
    "embeddings = model.encode(chunk_texts, convert_to_numpy=True)"
   ]
  },
  {
   "cell_type": "code",
   "execution_count": null,
   "id": "6c9031b2",
   "metadata": {},
   "outputs": [],
   "source": []
  },
  {
   "cell_type": "code",
   "execution_count": 21,
   "id": "2ec58a4b",
   "metadata": {},
   "outputs": [],
   "source": [
    "# CORRECTED: Prepare data for Pinecone upsert with proper dictionary format\n",
    "pinecone_vectors = []\n",
    "for i, (embedding, chunk) in enumerate(zip(embeddings, chunks)):\n",
    "    vector_data = {\n",
    "        \"id\": f\"chunk_{i}\",\n",
    "        \"values\": embedding.tolist(),  # Convert numpy array to list\n",
    "        \"metadata\": {\n",
    "            \"chunk_text\": chunk.page_content,  # Use .page_content to get text\n",
    "            \"chunk_id\": i,\n",
    "            \"source\": \"Story1.pdf\"\n",
    "        }\n",
    "    }\n",
    "    pinecone_vectors.append(vector_data)"
   ]
  },
  {
   "cell_type": "code",
   "execution_count": 22,
   "id": "802bbdb4",
   "metadata": {},
   "outputs": [
    {
     "name": "stdout",
     "output_type": "stream",
     "text": [
      "Upserted 3 chunks to Pinecone index 'pinecone-demo'\n"
     ]
    }
   ],
   "source": [
    "# Upsert to Pinecone\n",
    "index.upsert(vectors=pinecone_vectors)\n",
    "\n",
    "print(f\"Upserted {len(pinecone_vectors)} chunks to Pinecone index '{PINECONE_INDEX_NAME}'\")"
   ]
  },
  {
   "cell_type": "code",
   "execution_count": null,
   "id": "45a12598",
   "metadata": {},
   "outputs": [
    {
     "name": "stdout",
     "output_type": "stream",
     "text": [
      "question:  What clue did the first riddle provide, and how did Elara interpret it?\n",
      "****************************************\n",
      "context:  In a quaint, cobblestone village nestled beside the Whispering Woods, lived a young cartographer named Elara. Her days were spent meticulously illustrating maps, each line and curve a testament to her dedication. But Elara's maps weren't merely geographical representations; they were imbued with a subtle magic, a faint shimmer that hinted at the hidden stories within the land. One blustery autumn evening, a lone traveler, cloaked and weary, stumbled into Elara’s shop. He introduced himself as Kael, a historian on a lifelong quest for the lost \"Chronicle of Aethel.\" This ancient tome, rumored to hold the forgotten history of the world, was believed to be hidden within the treacherous peaks of the Dragon's Tooth mountains. Kael, having exhausted all conventional methods, had heard whispers of Elara's unique abilities and sought her help. Intrigued by the legend and the adventurer's earnest plea, Elara agreed. She began poring over her most ancient and unlabelled maps, her fingers tracing faint, almost invisible pathways. As she focused, the maps seemed to come alive under her touch, faint glows highlighting certain areas. She noticed a recurring, almost imperceptible pattern, a series of converging ley lines that pointed towards a secluded, often-avoided canyon deep within the Dragon's Tooth. Kael, observing her intense concentration, explained that the Chronicle was said to be protected by a series of riddles and trials, accessible only to those with a pure heart and an understanding of the land’s ancient wisdom. He showed Elara a fragment of a riddle he had found, etched onto a weathered stone tablet: \"Where the sky weeps tears of crystal, and the earth sighs a forgotten song, there the path unseen will guide you strong.\" Elara studied the riddle, her gaze shifting back to the maps. \"Crystal tears,\" she mused, \"could refer to a waterfall, especially one that freezes in winter. And a forgotten song... perhaps a place where the wind howls a unique tune through ancient rock formations.\" With a growing sense of excitement, she began to sketch a new map, integrating Kael's riddle with her own cartographic insights. She marked a hidden cave behind a towering, frozen waterfall, and a winding gorge where the wind carved ethereal melodies into the stone. The journey was arduous. The Dragon's Tooth lived up to its formidable reputation, with jagged peaks and sudden, chilling gusts of wind. Yet, Elara’s map, guided by both her artistry and intuition, proved uncannily accurate. They navigated treacherous passes, climbed dizzying ascents, and finally, after days of travel, reached the frozen waterfall. The \"crystal tears\" glittered, and behind its shimmering veil, a dark opening beckoned.\n",
      "****************************************\n",
      "response:  The first riddle was: \"Where the sky weeps tears of crystal, and the earth sighs a forgotten song, there the path unseen will guide you strong.\" Elara interpreted \"crystal tears\" as a waterfall that freezes in winter, and \"a forgotten song\" as a place where the wind howls a unique tune through ancient rock formations.\n"
     ]
    }
   ],
   "source": [
    "#\"What is the story about Elara and the maps?\"\n",
    "query_text = input()\n",
    "\n",
    "# 2. Generate embedding for the query using the same model\n",
    "query_embedding = model.encode(query_text, convert_to_numpy=True)\n",
    "\n",
    "results = index.query(\n",
    "    vector=query_embedding.tolist(),\n",
    "    top_k=20,\n",
    "    include_metadata=True,\n",
    "    score_threshold=0.7  # Only return results above this similarity score\n",
    ")\n",
    "\n",
    "from langchain.schema import HumanMessage, SystemMessage\n",
    "from langchain_google_genai import ChatGoogleGenerativeAI\n",
    "\n",
    "system_prompt = f\"\"\"You are a helpful assistant. Use the following context to answer the user's question.\n",
    "    If the context doesn't contain enough information to answer the question, say so.\n",
    "    \n",
    "    Context:\n",
    "    {results}\n",
    "\"\"\"\n",
    "\n",
    "messages = [\n",
    "        SystemMessage(content=system_prompt),\n",
    "        HumanMessage(content=query_text)\n",
    "    ]\n",
    "\n",
    "llm = ChatGoogleGenerativeAI(\n",
    "    model=\"gemini-2.0-flash\",\n",
    "    temperature=0.7,\n",
    "    google_api_key=GOOGLE_API_KEY# Set this in your environment\n",
    ")\n",
    "\n",
    "\n",
    "response = llm.invoke(messages)\n",
    "\n",
    "print(\"question: \", query_text)\n",
    "print(\"**\"*20)\n",
    "print(\"context: \", results[\"matches\"][0][\"metadata\"][\"chunk_text\"])\n",
    "print(\"**\"*20)\n",
    "print(\"response: \", response.content)\n",
    "\n",
    "\n",
    "\n"
   ]
  }
 ],
 "metadata": {
  "kernelspec": {
   "display_name": ".venv",
   "language": "python",
   "name": "python3"
  },
  "language_info": {
   "codemirror_mode": {
    "name": "ipython",
    "version": 3
   },
   "file_extension": ".py",
   "mimetype": "text/x-python",
   "name": "python",
   "nbconvert_exporter": "python",
   "pygments_lexer": "ipython3",
   "version": "3.11.9"
  }
 },
 "nbformat": 4,
 "nbformat_minor": 5
}
